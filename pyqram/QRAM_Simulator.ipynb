{
 "cells": [
  {
   "cell_type": "code",
   "execution_count": null,
   "metadata": {},
   "outputs": [
    {
     "name": "stdout",
     "output_type": "stream",
     "text": [
      "1-F=0.012 (size=3, noise=0.0001)\n",
      "1-F=0.030 (size=4, noise=0.0001)\n",
      "1-F=0.069 (size=5, noise=0.0001)\n",
      "1-F=0.118 (size=6, noise=0.0001)\n",
      "1-F=0.199 (size=7, noise=0.0001)\n"
     ]
    }
   ],
   "source": [
    "import pyqram\n",
    "import random\n",
    "import numpy as np\n",
    "import matplotlib.pyplot as plt\n",
    "from math import sqrt, ceil\n",
    "# pyqram.close_profiler()\n",
    "pyqram.init_profiler()\n",
    "\n",
    "def get_stat_fid(fid_list):\n",
    "    tot = 0\n",
    "    tot_2 = 0\n",
    "    \n",
    "    for item in fid_list:\n",
    "        tot+=(1-item[0])\n",
    "        tot_2 += (1-item[0])*(1-item[0])\n",
    "        \n",
    "    l = len(fid_list)\n",
    "    mean = tot / l\n",
    "    meansq = tot_2 / l\n",
    "    \n",
    "    stdr = (meansq-mean*mean)\n",
    "    if (stdr < 0): stdr = 0\n",
    "    std = sqrt(stdr)\n",
    "        \n",
    "    return mean,std\n",
    "\n",
    "\n",
    "def qram_fid(size, n_trials, noise):\n",
    "\n",
    "    qram = pyqram.QRAM_bb(size)\n",
    "\n",
    "    fid_list = list()\n",
    "\n",
    "    qram.set_memory_random()\n",
    "    qram.add_noise_model(pyqram.OperationType.BitFlip, noise)\n",
    "    \n",
    "    #n_address = (1<<size) if size <= 10 else 1000\n",
    "    #n_trials = ceil(n_computes/n_address)\n",
    "    #n_total_compute = n_address * n_trials\n",
    "    \n",
    "    final_fid = 0\n",
    "    \n",
    "    for i in range(n_trials):        \n",
    "        qram.set_seed(random.randint(0,10000))\n",
    "        #qram.set_address_sample(100)\n",
    "        #qram.set_address_sample(n_address)\n",
    "        qram.set_address_full()\n",
    "        qram.run()\n",
    "        fidelity = qram.get_fidelity()\n",
    "        #fid_list.append((fidelity,qram.get_seed()))\n",
    "        final_fid += fidelity\n",
    "        #print(f\"{i} : ({fidelity},{qram.get_seed()})\")\n",
    "\n",
    "    #return get_stat_fid(fid_list)\n",
    "    return 1 - final_fid / n_trials\n",
    "\n",
    "n_trials = 10000\n",
    "noise = 1e-4\n",
    "\n",
    "sizelist = list()\n",
    "inflist = list()\n",
    "erflist = list()\n",
    "\n",
    "for size in range(3,11):\n",
    "    fid = qram_fid(size, n_trials, noise)\n",
    "    sizelist.append(size)\n",
    "    #inflist.append(fid[0])\n",
    "    #erflist.append(fid[1])\n",
    "    inflist.append(fid)\n",
    "    print(\"1-F={:.3f} (size={}, noise={})\".format(fid, size, noise))\n",
    "    \n",
    "print(pyqram.get_all_profiles_v2())"
   ]
  },
  {
   "cell_type": "code",
   "execution_count": 4,
   "metadata": {},
   "outputs": [
    {
     "data": {
      "text/plain": [
       "[<matplotlib.lines.Line2D at 0x7fc4016a5ed0>]"
      ]
     },
     "execution_count": 4,
     "metadata": {},
     "output_type": "execute_result"
    },
    {
     "data": {
      "image/png": "[encoded data removed]",
      "text/plain": [
       "<Figure size 432x288 with 1 Axes>"
      ]
     },
     "metadata": {
      "needs_background": "light"
     },
     "output_type": "display_data"
    }
   ],
   "source": [
    "import matplotlib.pyplot as plt\n",
    "\n",
    "plt.plot(sizelist, inflist)"
   ]
  },
  {
   "cell_type": "code",
   "execution_count": 2,
   "metadata": {},
   "outputs": [
    {
     "data": {
      "text/plain": [
       "2"
      ]
     },
     "execution_count": 2,
     "metadata": {},
     "output_type": "execute_result"
    }
   ],
   "source": [
    "1+1"
   ]
  },
  {
   "cell_type": "code",
   "execution_count": 6,
   "metadata": {},
   "outputs": [
    {
     "name": "stdout",
     "output_type": "stream",
     "text": [
      "{0: A: |0> D: |1>\n",
      "1: A: |1> D: |1> 2: A: |1> D: |1> \n",
      "3: A: |0> D: |0> 4: A: |0> D: |0> 5: A: |0> D: |0> 6: A: |0> D: |1> \n",
      ", 0: A: |0> D: |1>\n",
      "1: A: |0> D: |1> 2: A: |1> D: |0> \n",
      "3: A: |0> D: |0> 4: A: |0> D: |0> 5: A: |0> D: |0> 6: A: |0> D: |1> \n",
      ", 0: A: |1> D: |1>\n",
      "1: A: |0> D: |0> 2: A: |1> D: |0> \n",
      "3: A: |0> D: |0> 4: A: |0> D: |0> 5: A: |0> D: |0> 6: A: |0> D: |1> \n",
      ", 0: A: |1> D: |1>\n",
      "1: A: |0> D: |1> 2: A: |1> D: |1> \n",
      "3: A: |0> D: |0> 4: A: |0> D: |0> 5: A: |0> D: |0> 6: A: |0> D: |1> \n",
      ", 0: A: |1> D: |1>\n",
      "1: A: |1> D: |0> 2: A: |1> D: |1> \n",
      "3: A: |0> D: |0> 4: A: |0> D: |0> 5: A: |0> D: |0> 6: A: |0> D: |1> \n",
      ", 0: A: |1> D: |1>\n",
      "1: A: |0> D: |0> 2: A: |0> D: |1> \n",
      "3: A: |0> D: |0> 4: A: |0> D: |0> 5: A: |0> D: |0> 6: A: |0> D: |1> \n",
      ", 0: A: |0> D: |1>\n",
      "1: A: |0> D: |0> 2: A: |0> D: |0> \n",
      "3: A: |0> D: |0> 4: A: |0> D: |0> 5: A: |0> D: |0> 6: A: |0> D: |1> \n",
      "}\n",
      "Number of Tree Classes: 7\n",
      "p=0.12499999999999997 nbranch=1\n",
      "p=0.24999999999999994 nbranch=2\n",
      "p=0.12499999999999997 nbranch=1\n",
      "p=0.12499999999999997 nbranch=1\n",
      "p=0.12499999999999997 nbranch=1\n",
      "p=0.12499999999999997 nbranch=1\n",
      "p=0.12499999999999997 nbranch=1\n",
      "\n",
      "fidelity=0.021484374999999993\n",
      "Item: 9\n",
      "[            run             ] Calls =  1  Time = 0.499818 ms\n",
      "[  generate_QRAM_operations  ] Calls =  1  Time = 0.490173 ms\n",
      "[     run - append_noise     ] Calls =  1  Time = 0.175732 ms\n",
      "[         try_merge          ] Calls =  1  Time = 0.121694 ms\n",
      "[         run_cswap          ] Calls = 14  Time = 0.040032 ms\n",
      "[      run - init_state      ] Calls =  1  Time = 0.030311 ms\n",
      "[         run_busin          ] Calls =  2  Time = 0.026777 ms\n",
      "[     qram::get_fidelity     ] Calls =  1  Time = 0.006473 ms\n",
      "[    run - tree_fid_clear    ] Calls =  1  Time = 0.004040 ms\n",
      "\n"
     ]
    }
   ],
   "source": [
    "import pyqram\n",
    "import random\n",
    "import numpy as np\n",
    "import matplotlib.pyplot as plt\n",
    "from math import sqrt\n",
    "# pyqram.close_profiler()\n",
    "pyqram.init_profiler()\n",
    "\n",
    "\n",
    "n_trials = 1\n",
    "noise = 0.01\n",
    "size = 3\n",
    "\n",
    "qram = pyqram.QRAM_bb(size)\n",
    "\n",
    "fid_list = list()\n",
    "\n",
    "qram.set_memory_random()\n",
    "qram.add_noise_model(pyqram.OperationType.BitFlip, noise)\n",
    "\n",
    "for i in range(0, n_trials):\n",
    "    # qram.set_seed(random.randint(0,10000))\n",
    "    qram.set_seed(8626)\n",
    "    #qram.set_address_sample(100)\n",
    "    qram.set_address_full()\n",
    "    qram.run()\n",
    "    qram.state_view_preparation()\n",
    "    print(qram.get_state_tree_view())\n",
    "    print(qram.state_view_to_string())\n",
    "    print(f\"fidelity={qram.get_fidelity()}\")\n",
    "    \n",
    "    \n",
    "print(pyqram.get_all_profiles_v2())"
   ]
  },
  {
   "cell_type": "code",
   "execution_count": 1,
   "metadata": {},
   "outputs": [
    {
     "name": "stdout",
     "output_type": "stream",
     "text": [
      "2021-11-18 15:33:56----------------------------\n",
      "Number of Tree Classes: 4\n",
      "p=0.24999999999999994 nbranch=2\n",
      "p=0.24999999999999994 nbranch=2\n",
      "p=0.24999999999999994 nbranch=2\n",
      "p=0.24999999999999994 nbranch=2\n",
      "\n",
      "----------------------------\n",
      "time : 2.075732 ms\n",
      "\n"
     ]
    }
   ],
   "source": [
    "filename = '../build/bin/test.out'\n",
    "with open(filename, 'r') as fp:\n",
    "    m = fp.read()\n",
    "    print(m)"
   ]
  },
  {
   "cell_type": "code",
   "execution_count": null,
   "metadata": {},
   "outputs": [],
   "source": []
  }
 ],
 "metadata": {
  "kernelspec": {
   "display_name": "Python 3",
   "language": "python",
   "name": "python3"
  },
  "language_info": {
   "codemirror_mode": {
    "name": "ipython",
    "version": 3
   },
   "file_extension": ".py",
   "mimetype": "text/x-python",
   "name": "python",
   "nbconvert_exporter": "python",
   "pygments_lexer": "ipython3",
   "version": "3.7.4"
  }
 },
 "nbformat": 4,
 "nbformat_minor": 4
}
